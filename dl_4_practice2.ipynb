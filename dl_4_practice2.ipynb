{
 "cells": [
  {
   "cell_type": "code",
   "execution_count": 1,
   "id": "865aa6f2",
   "metadata": {},
   "outputs": [],
   "source": [
    "import pandas as pd\n",
    "import numpy as np\n",
    "import matplotlib.pyplot as plt"
   ]
  },
  {
   "cell_type": "code",
   "execution_count": 3,
   "id": "a59fbde4",
   "metadata": {},
   "outputs": [
    {
     "data": {
      "text/html": [
       "<div>\n",
       "<style scoped>\n",
       "    .dataframe tbody tr th:only-of-type {\n",
       "        vertical-align: middle;\n",
       "    }\n",
       "\n",
       "    .dataframe tbody tr th {\n",
       "        vertical-align: top;\n",
       "    }\n",
       "\n",
       "    .dataframe thead th {\n",
       "        text-align: right;\n",
       "    }\n",
       "</style>\n",
       "<table border=\"1\" class=\"dataframe\">\n",
       "  <thead>\n",
       "    <tr style=\"text-align: right;\">\n",
       "      <th></th>\n",
       "      <th>Date</th>\n",
       "      <th>Open</th>\n",
       "      <th>High</th>\n",
       "      <th>Low</th>\n",
       "      <th>Close</th>\n",
       "      <th>Volume</th>\n",
       "    </tr>\n",
       "  </thead>\n",
       "  <tbody>\n",
       "    <tr>\n",
       "      <th>0</th>\n",
       "      <td>1/3/2012</td>\n",
       "      <td>325.25</td>\n",
       "      <td>332.83</td>\n",
       "      <td>324.97</td>\n",
       "      <td>663.59</td>\n",
       "      <td>7,380,500</td>\n",
       "    </tr>\n",
       "    <tr>\n",
       "      <th>1</th>\n",
       "      <td>1/4/2012</td>\n",
       "      <td>331.27</td>\n",
       "      <td>333.87</td>\n",
       "      <td>329.08</td>\n",
       "      <td>666.45</td>\n",
       "      <td>5,749,400</td>\n",
       "    </tr>\n",
       "    <tr>\n",
       "      <th>2</th>\n",
       "      <td>1/5/2012</td>\n",
       "      <td>329.83</td>\n",
       "      <td>330.75</td>\n",
       "      <td>326.89</td>\n",
       "      <td>657.21</td>\n",
       "      <td>6,590,300</td>\n",
       "    </tr>\n",
       "    <tr>\n",
       "      <th>3</th>\n",
       "      <td>1/6/2012</td>\n",
       "      <td>328.34</td>\n",
       "      <td>328.77</td>\n",
       "      <td>323.68</td>\n",
       "      <td>648.24</td>\n",
       "      <td>5,405,900</td>\n",
       "    </tr>\n",
       "    <tr>\n",
       "      <th>4</th>\n",
       "      <td>1/9/2012</td>\n",
       "      <td>322.04</td>\n",
       "      <td>322.29</td>\n",
       "      <td>309.46</td>\n",
       "      <td>620.76</td>\n",
       "      <td>11,688,800</td>\n",
       "    </tr>\n",
       "    <tr>\n",
       "      <th>...</th>\n",
       "      <td>...</td>\n",
       "      <td>...</td>\n",
       "      <td>...</td>\n",
       "      <td>...</td>\n",
       "      <td>...</td>\n",
       "      <td>...</td>\n",
       "    </tr>\n",
       "    <tr>\n",
       "      <th>1253</th>\n",
       "      <td>12/23/2016</td>\n",
       "      <td>790.90</td>\n",
       "      <td>792.74</td>\n",
       "      <td>787.28</td>\n",
       "      <td>789.91</td>\n",
       "      <td>623,400</td>\n",
       "    </tr>\n",
       "    <tr>\n",
       "      <th>1254</th>\n",
       "      <td>12/27/2016</td>\n",
       "      <td>790.68</td>\n",
       "      <td>797.86</td>\n",
       "      <td>787.66</td>\n",
       "      <td>791.55</td>\n",
       "      <td>789,100</td>\n",
       "    </tr>\n",
       "    <tr>\n",
       "      <th>1255</th>\n",
       "      <td>12/28/2016</td>\n",
       "      <td>793.70</td>\n",
       "      <td>794.23</td>\n",
       "      <td>783.20</td>\n",
       "      <td>785.05</td>\n",
       "      <td>1,153,800</td>\n",
       "    </tr>\n",
       "    <tr>\n",
       "      <th>1256</th>\n",
       "      <td>12/29/2016</td>\n",
       "      <td>783.33</td>\n",
       "      <td>785.93</td>\n",
       "      <td>778.92</td>\n",
       "      <td>782.79</td>\n",
       "      <td>744,300</td>\n",
       "    </tr>\n",
       "    <tr>\n",
       "      <th>1257</th>\n",
       "      <td>12/30/2016</td>\n",
       "      <td>782.75</td>\n",
       "      <td>782.78</td>\n",
       "      <td>770.41</td>\n",
       "      <td>771.82</td>\n",
       "      <td>1,770,000</td>\n",
       "    </tr>\n",
       "  </tbody>\n",
       "</table>\n",
       "<p>1258 rows × 6 columns</p>\n",
       "</div>"
      ],
      "text/plain": [
       "            Date    Open    High     Low   Close      Volume\n",
       "0       1/3/2012  325.25  332.83  324.97  663.59   7,380,500\n",
       "1       1/4/2012  331.27  333.87  329.08  666.45   5,749,400\n",
       "2       1/5/2012  329.83  330.75  326.89  657.21   6,590,300\n",
       "3       1/6/2012  328.34  328.77  323.68  648.24   5,405,900\n",
       "4       1/9/2012  322.04  322.29  309.46  620.76  11,688,800\n",
       "...          ...     ...     ...     ...     ...         ...\n",
       "1253  12/23/2016  790.90  792.74  787.28  789.91     623,400\n",
       "1254  12/27/2016  790.68  797.86  787.66  791.55     789,100\n",
       "1255  12/28/2016  793.70  794.23  783.20  785.05   1,153,800\n",
       "1256  12/29/2016  783.33  785.93  778.92  782.79     744,300\n",
       "1257  12/30/2016  782.75  782.78  770.41  771.82   1,770,000\n",
       "\n",
       "[1258 rows x 6 columns]"
      ]
     },
     "execution_count": 3,
     "metadata": {},
     "output_type": "execute_result"
    }
   ],
   "source": [
    "df_train = pd.read_csv(\"Google_Stock_Price_Train.csv\")\n",
    "df_train"
   ]
  },
  {
   "cell_type": "code",
   "execution_count": 4,
   "id": "569973e3",
   "metadata": {},
   "outputs": [
    {
     "data": {
      "text/html": [
       "<div>\n",
       "<style scoped>\n",
       "    .dataframe tbody tr th:only-of-type {\n",
       "        vertical-align: middle;\n",
       "    }\n",
       "\n",
       "    .dataframe tbody tr th {\n",
       "        vertical-align: top;\n",
       "    }\n",
       "\n",
       "    .dataframe thead th {\n",
       "        text-align: right;\n",
       "    }\n",
       "</style>\n",
       "<table border=\"1\" class=\"dataframe\">\n",
       "  <thead>\n",
       "    <tr style=\"text-align: right;\">\n",
       "      <th></th>\n",
       "      <th>Date</th>\n",
       "      <th>Open</th>\n",
       "      <th>High</th>\n",
       "      <th>Low</th>\n",
       "      <th>Close</th>\n",
       "      <th>Volume</th>\n",
       "    </tr>\n",
       "  </thead>\n",
       "  <tbody>\n",
       "    <tr>\n",
       "      <th>0</th>\n",
       "      <td>1/3/2017</td>\n",
       "      <td>778.81</td>\n",
       "      <td>789.63</td>\n",
       "      <td>775.80</td>\n",
       "      <td>786.14</td>\n",
       "      <td>1,657,300</td>\n",
       "    </tr>\n",
       "    <tr>\n",
       "      <th>1</th>\n",
       "      <td>1/4/2017</td>\n",
       "      <td>788.36</td>\n",
       "      <td>791.34</td>\n",
       "      <td>783.16</td>\n",
       "      <td>786.90</td>\n",
       "      <td>1,073,000</td>\n",
       "    </tr>\n",
       "    <tr>\n",
       "      <th>2</th>\n",
       "      <td>1/5/2017</td>\n",
       "      <td>786.08</td>\n",
       "      <td>794.48</td>\n",
       "      <td>785.02</td>\n",
       "      <td>794.02</td>\n",
       "      <td>1,335,200</td>\n",
       "    </tr>\n",
       "    <tr>\n",
       "      <th>3</th>\n",
       "      <td>1/6/2017</td>\n",
       "      <td>795.26</td>\n",
       "      <td>807.90</td>\n",
       "      <td>792.20</td>\n",
       "      <td>806.15</td>\n",
       "      <td>1,640,200</td>\n",
       "    </tr>\n",
       "    <tr>\n",
       "      <th>4</th>\n",
       "      <td>1/9/2017</td>\n",
       "      <td>806.40</td>\n",
       "      <td>809.97</td>\n",
       "      <td>802.83</td>\n",
       "      <td>806.65</td>\n",
       "      <td>1,272,400</td>\n",
       "    </tr>\n",
       "    <tr>\n",
       "      <th>5</th>\n",
       "      <td>1/10/2017</td>\n",
       "      <td>807.86</td>\n",
       "      <td>809.13</td>\n",
       "      <td>803.51</td>\n",
       "      <td>804.79</td>\n",
       "      <td>1,176,800</td>\n",
       "    </tr>\n",
       "    <tr>\n",
       "      <th>6</th>\n",
       "      <td>1/11/2017</td>\n",
       "      <td>805.00</td>\n",
       "      <td>808.15</td>\n",
       "      <td>801.37</td>\n",
       "      <td>807.91</td>\n",
       "      <td>1,065,900</td>\n",
       "    </tr>\n",
       "    <tr>\n",
       "      <th>7</th>\n",
       "      <td>1/12/2017</td>\n",
       "      <td>807.14</td>\n",
       "      <td>807.39</td>\n",
       "      <td>799.17</td>\n",
       "      <td>806.36</td>\n",
       "      <td>1,353,100</td>\n",
       "    </tr>\n",
       "    <tr>\n",
       "      <th>8</th>\n",
       "      <td>1/13/2017</td>\n",
       "      <td>807.48</td>\n",
       "      <td>811.22</td>\n",
       "      <td>806.69</td>\n",
       "      <td>807.88</td>\n",
       "      <td>1,099,200</td>\n",
       "    </tr>\n",
       "    <tr>\n",
       "      <th>9</th>\n",
       "      <td>1/17/2017</td>\n",
       "      <td>807.08</td>\n",
       "      <td>807.14</td>\n",
       "      <td>800.37</td>\n",
       "      <td>804.61</td>\n",
       "      <td>1,362,100</td>\n",
       "    </tr>\n",
       "    <tr>\n",
       "      <th>10</th>\n",
       "      <td>1/18/2017</td>\n",
       "      <td>805.81</td>\n",
       "      <td>806.21</td>\n",
       "      <td>800.99</td>\n",
       "      <td>806.07</td>\n",
       "      <td>1,294,400</td>\n",
       "    </tr>\n",
       "    <tr>\n",
       "      <th>11</th>\n",
       "      <td>1/19/2017</td>\n",
       "      <td>805.12</td>\n",
       "      <td>809.48</td>\n",
       "      <td>801.80</td>\n",
       "      <td>802.17</td>\n",
       "      <td>919,300</td>\n",
       "    </tr>\n",
       "    <tr>\n",
       "      <th>12</th>\n",
       "      <td>1/20/2017</td>\n",
       "      <td>806.91</td>\n",
       "      <td>806.91</td>\n",
       "      <td>801.69</td>\n",
       "      <td>805.02</td>\n",
       "      <td>1,670,000</td>\n",
       "    </tr>\n",
       "    <tr>\n",
       "      <th>13</th>\n",
       "      <td>1/23/2017</td>\n",
       "      <td>807.25</td>\n",
       "      <td>820.87</td>\n",
       "      <td>803.74</td>\n",
       "      <td>819.31</td>\n",
       "      <td>1,963,600</td>\n",
       "    </tr>\n",
       "    <tr>\n",
       "      <th>14</th>\n",
       "      <td>1/24/2017</td>\n",
       "      <td>822.30</td>\n",
       "      <td>825.90</td>\n",
       "      <td>817.82</td>\n",
       "      <td>823.87</td>\n",
       "      <td>1,474,000</td>\n",
       "    </tr>\n",
       "    <tr>\n",
       "      <th>15</th>\n",
       "      <td>1/25/2017</td>\n",
       "      <td>829.62</td>\n",
       "      <td>835.77</td>\n",
       "      <td>825.06</td>\n",
       "      <td>835.67</td>\n",
       "      <td>1,494,500</td>\n",
       "    </tr>\n",
       "    <tr>\n",
       "      <th>16</th>\n",
       "      <td>1/26/2017</td>\n",
       "      <td>837.81</td>\n",
       "      <td>838.00</td>\n",
       "      <td>827.01</td>\n",
       "      <td>832.15</td>\n",
       "      <td>2,973,900</td>\n",
       "    </tr>\n",
       "    <tr>\n",
       "      <th>17</th>\n",
       "      <td>1/27/2017</td>\n",
       "      <td>834.71</td>\n",
       "      <td>841.95</td>\n",
       "      <td>820.44</td>\n",
       "      <td>823.31</td>\n",
       "      <td>2,965,800</td>\n",
       "    </tr>\n",
       "    <tr>\n",
       "      <th>18</th>\n",
       "      <td>1/30/2017</td>\n",
       "      <td>814.66</td>\n",
       "      <td>815.84</td>\n",
       "      <td>799.80</td>\n",
       "      <td>802.32</td>\n",
       "      <td>3,246,600</td>\n",
       "    </tr>\n",
       "    <tr>\n",
       "      <th>19</th>\n",
       "      <td>1/31/2017</td>\n",
       "      <td>796.86</td>\n",
       "      <td>801.25</td>\n",
       "      <td>790.52</td>\n",
       "      <td>796.79</td>\n",
       "      <td>2,160,600</td>\n",
       "    </tr>\n",
       "  </tbody>\n",
       "</table>\n",
       "</div>"
      ],
      "text/plain": [
       "         Date    Open    High     Low   Close     Volume\n",
       "0    1/3/2017  778.81  789.63  775.80  786.14  1,657,300\n",
       "1    1/4/2017  788.36  791.34  783.16  786.90  1,073,000\n",
       "2    1/5/2017  786.08  794.48  785.02  794.02  1,335,200\n",
       "3    1/6/2017  795.26  807.90  792.20  806.15  1,640,200\n",
       "4    1/9/2017  806.40  809.97  802.83  806.65  1,272,400\n",
       "5   1/10/2017  807.86  809.13  803.51  804.79  1,176,800\n",
       "6   1/11/2017  805.00  808.15  801.37  807.91  1,065,900\n",
       "7   1/12/2017  807.14  807.39  799.17  806.36  1,353,100\n",
       "8   1/13/2017  807.48  811.22  806.69  807.88  1,099,200\n",
       "9   1/17/2017  807.08  807.14  800.37  804.61  1,362,100\n",
       "10  1/18/2017  805.81  806.21  800.99  806.07  1,294,400\n",
       "11  1/19/2017  805.12  809.48  801.80  802.17    919,300\n",
       "12  1/20/2017  806.91  806.91  801.69  805.02  1,670,000\n",
       "13  1/23/2017  807.25  820.87  803.74  819.31  1,963,600\n",
       "14  1/24/2017  822.30  825.90  817.82  823.87  1,474,000\n",
       "15  1/25/2017  829.62  835.77  825.06  835.67  1,494,500\n",
       "16  1/26/2017  837.81  838.00  827.01  832.15  2,973,900\n",
       "17  1/27/2017  834.71  841.95  820.44  823.31  2,965,800\n",
       "18  1/30/2017  814.66  815.84  799.80  802.32  3,246,600\n",
       "19  1/31/2017  796.86  801.25  790.52  796.79  2,160,600"
      ]
     },
     "execution_count": 4,
     "metadata": {},
     "output_type": "execute_result"
    }
   ],
   "source": [
    "df_test = pd.read_csv(\"Google_Stock_Price_Test.csv\")\n",
    "df_test"
   ]
  },
  {
   "cell_type": "code",
   "execution_count": 5,
   "id": "53a337b0",
   "metadata": {},
   "outputs": [
    {
     "data": {
      "text/plain": [
       "array([[325.25],\n",
       "       [331.27],\n",
       "       [329.83],\n",
       "       ...,\n",
       "       [793.7 ],\n",
       "       [783.33],\n",
       "       [782.75]])"
      ]
     },
     "execution_count": 5,
     "metadata": {},
     "output_type": "execute_result"
    }
   ],
   "source": [
    "train = df_train.loc[:,['Open']].values\n",
    "train"
   ]
  },
  {
   "cell_type": "code",
   "execution_count": 6,
   "id": "bac259cc",
   "metadata": {},
   "outputs": [
    {
     "data": {
      "text/plain": [
       "(1258, 1)"
      ]
     },
     "execution_count": 6,
     "metadata": {},
     "output_type": "execute_result"
    }
   ],
   "source": [
    "train.shape"
   ]
  },
  {
   "cell_type": "code",
   "execution_count": 7,
   "id": "9070b3a6",
   "metadata": {},
   "outputs": [],
   "source": [
    "from sklearn.preprocessing import MinMaxScaler"
   ]
  },
  {
   "cell_type": "code",
   "execution_count": 8,
   "id": "fee7f814",
   "metadata": {},
   "outputs": [],
   "source": [
    "mms = MinMaxScaler()"
   ]
  },
  {
   "cell_type": "code",
   "execution_count": 9,
   "id": "9db94aef",
   "metadata": {},
   "outputs": [
    {
     "data": {
      "text/plain": [
       "array([[0.08581368],\n",
       "       [0.09701243],\n",
       "       [0.09433366],\n",
       "       ...,\n",
       "       [0.95725128],\n",
       "       [0.93796041],\n",
       "       [0.93688146]])"
      ]
     },
     "execution_count": 9,
     "metadata": {},
     "output_type": "execute_result"
    }
   ],
   "source": [
    "train_scaled = mms.fit_transform(train)\n",
    "train_scaled"
   ]
  },
  {
   "cell_type": "code",
   "execution_count": 11,
   "id": "4707c2bc",
   "metadata": {},
   "outputs": [
    {
     "data": {
      "image/png": "[encoded data removed]",
      "text/plain": [
       "<Figure size 432x288 with 1 Axes>"
      ]
     },
     "metadata": {
      "needs_background": "light"
     },
     "output_type": "display_data"
    }
   ],
   "source": [
    "plt.plot(train_scaled)\n",
    "plt.xlabel(\"Time\")\n",
    "plt.ylabel(\"Standardized Price\")\n",
    "plt.show()"
   ]
  },
  {
   "cell_type": "code",
   "execution_count": 12,
   "id": "c47d918c",
   "metadata": {},
   "outputs": [],
   "source": [
    "x_train, y_train = [], []\n",
    "time=60"
   ]
  },
  {
   "cell_type": "code",
   "execution_count": 13,
   "id": "e3f71a2e",
   "metadata": {},
   "outputs": [],
   "source": [
    "for i in range(time,train_scaled.shape[0]):\n",
    "    x_train.append(train_scaled[i-time:i,0])\n",
    "    y_train.append(train_scaled[i,0])"
   ]
  },
  {
   "cell_type": "code",
   "execution_count": 14,
   "id": "198e8a30",
   "metadata": {},
   "outputs": [],
   "source": [
    "x_train = np.array(x_train)\n",
    "y_train = np.array(y_train)"
   ]
  },
  {
   "cell_type": "code",
   "execution_count": 15,
   "id": "f3b0f325",
   "metadata": {},
   "outputs": [
    {
     "data": {
      "text/plain": [
       "((1198, 60), (1198,))"
      ]
     },
     "execution_count": 15,
     "metadata": {},
     "output_type": "execute_result"
    }
   ],
   "source": [
    "x_train.shape, y_train.shape"
   ]
  },
  {
   "cell_type": "code",
   "execution_count": 16,
   "id": "cf8ac9ad",
   "metadata": {},
   "outputs": [
    {
     "data": {
      "text/plain": [
       "(1198, 60, 1)"
      ]
     },
     "execution_count": 16,
     "metadata": {},
     "output_type": "execute_result"
    }
   ],
   "source": [
    "x_train = np.reshape(x_train, newshape=(x_train.shape[0], x_train.shape[1], 1))\n",
    "x_train.shape"
   ]
  },
  {
   "cell_type": "code",
   "execution_count": 17,
   "id": "aaabda91",
   "metadata": {},
   "outputs": [],
   "source": [
    "from keras.models import Sequential\n",
    "from keras.layers import SimpleRNN, Dropout, Dense"
   ]
  },
  {
   "cell_type": "code",
   "execution_count": 18,
   "id": "5c1a84d6",
   "metadata": {},
   "outputs": [],
   "source": [
    "model = Sequential()"
   ]
  },
  {
   "cell_type": "code",
   "execution_count": 20,
   "id": "c7d6a4ea",
   "metadata": {},
   "outputs": [],
   "source": [
    "model.add(SimpleRNN(units=50, activation='tanh', return_sequences=True, input_shape=(x_train.shape[1],1)))\n",
    "model.add(Dropout(0.2))\n",
    "\n",
    "model.add(SimpleRNN(units=50, activation='tanh', return_sequences=True))\n",
    "model.add(Dropout(0.2))\n",
    "\n",
    "model.add(SimpleRNN(units=50, activation='tanh', return_sequences=True))\n",
    "model.add(Dropout(0.2))\n",
    "\n",
    "model.add(SimpleRNN(50))\n",
    "model.add(Dropout(0.2))\n",
    "\n",
    "model.add(Dense(1))\n",
    "model.compile(optimizer='adam', loss='mse')"
   ]
  },
  {
   "cell_type": "code",
   "execution_count": 21,
   "id": "92fbc18b",
   "metadata": {},
   "outputs": [
    {
     "name": "stdout",
     "output_type": "stream",
     "text": [
      "Model: \"sequential\"\n",
      "_________________________________________________________________\n",
      "Layer (type)                 Output Shape              Param #   \n",
      "=================================================================\n",
      "simple_rnn (SimpleRNN)       (None, 60, 50)            2600      \n",
      "_________________________________________________________________\n",
      "dropout (Dropout)            (None, 60, 50)            0         \n",
      "_________________________________________________________________\n",
      "simple_rnn_1 (SimpleRNN)     (None, 60, 50)            5050      \n",
      "_________________________________________________________________\n",
      "dropout_1 (Dropout)          (None, 60, 50)            0         \n",
      "_________________________________________________________________\n",
      "simple_rnn_2 (SimpleRNN)     (None, 60, 50)            5050      \n",
      "_________________________________________________________________\n",
      "dropout_2 (Dropout)          (None, 60, 50)            0         \n",
      "_________________________________________________________________\n",
      "simple_rnn_3 (SimpleRNN)     (None, 50)                5050      \n",
      "_________________________________________________________________\n",
      "dropout_3 (Dropout)          (None, 50)                0         \n",
      "_________________________________________________________________\n",
      "dense (Dense)                (None, 1)                 51        \n",
      "=================================================================\n",
      "Total params: 17,801\n",
      "Trainable params: 17,801\n",
      "Non-trainable params: 0\n",
      "_________________________________________________________________\n"
     ]
    }
   ],
   "source": [
    "model.summary()"
   ]
  },
  {
   "cell_type": "code",
   "execution_count": 57,
   "id": "eabb8bd8",
   "metadata": {},
   "outputs": [
    {
     "name": "stdout",
     "output_type": "stream",
     "text": [
      "Epoch 1/100\n",
      "38/38 [==============================] - 3s 67ms/step - loss: 0.0047 - val_loss: 0.0013\n",
      "Epoch 2/100\n",
      "38/38 [==============================] - 3s 69ms/step - loss: 0.0040 - val_loss: 0.0020\n",
      "Epoch 3/100\n",
      "38/38 [==============================] - 3s 70ms/step - loss: 0.0041 - val_loss: 8.9138e-04\n",
      "Epoch 4/100\n",
      "38/38 [==============================] - 3s 71ms/step - loss: 0.0039 - val_loss: 6.2088e-04\n",
      "Epoch 5/100\n",
      "38/38 [==============================] - 3s 71ms/step - loss: 0.0039 - val_loss: 8.4965e-04\n",
      "Epoch 6/100\n",
      "38/38 [==============================] - 3s 72ms/step - loss: 0.0038 - val_loss: 6.1680e-04\n",
      "Epoch 7/100\n",
      "38/38 [==============================] - 3s 72ms/step - loss: 0.0038 - val_loss: 8.2645e-04\n",
      "Epoch 8/100\n",
      "38/38 [==============================] - 3s 71ms/step - loss: 0.0036 - val_loss: 5.9387e-04\n",
      "Epoch 9/100\n",
      "38/38 [==============================] - 3s 72ms/step - loss: 0.0037 - val_loss: 7.4028e-04\n",
      "Epoch 10/100\n",
      "38/38 [==============================] - 3s 72ms/step - loss: 0.0038 - val_loss: 0.0010\n",
      "Epoch 11/100\n",
      "38/38 [==============================] - 3s 70ms/step - loss: 0.0033 - val_loss: 0.0016\n",
      "Epoch 12/100\n",
      "38/38 [==============================] - 3s 72ms/step - loss: 0.0030 - val_loss: 0.0010\n",
      "Epoch 13/100\n",
      "38/38 [==============================] - 3s 72ms/step - loss: 0.0032 - val_loss: 8.0701e-04\n",
      "Epoch 14/100\n",
      "38/38 [==============================] - 3s 72ms/step - loss: 0.0030 - val_loss: 9.7930e-04\n",
      "Epoch 15/100\n",
      "38/38 [==============================] - 3s 73ms/step - loss: 0.0030 - val_loss: 6.2877e-04\n",
      "Epoch 16/100\n",
      "38/38 [==============================] - 3s 73ms/step - loss: 0.0029 - val_loss: 6.3354e-04\n",
      "Epoch 17/100\n",
      "38/38 [==============================] - 3s 72ms/step - loss: 0.0030 - val_loss: 6.4467e-04\n",
      "Epoch 18/100\n",
      "38/38 [==============================] - 3s 72ms/step - loss: 0.0027 - val_loss: 6.5213e-04\n",
      "Epoch 19/100\n",
      "38/38 [==============================] - 3s 73ms/step - loss: 0.0032 - val_loss: 7.8711e-04\n",
      "Epoch 20/100\n",
      "38/38 [==============================] - 3s 72ms/step - loss: 0.0029 - val_loss: 0.0012\n",
      "Epoch 21/100\n",
      "38/38 [==============================] - 2s 65ms/step - loss: 0.0029 - val_loss: 7.1468e-04\n",
      "Epoch 22/100\n",
      "38/38 [==============================] - 3s 71ms/step - loss: 0.0027 - val_loss: 7.4009e-04\n",
      "Epoch 23/100\n",
      "38/38 [==============================] - 3s 73ms/step - loss: 0.0030 - val_loss: 8.9396e-04\n",
      "Epoch 24/100\n",
      "38/38 [==============================] - 3s 72ms/step - loss: 0.0027 - val_loss: 6.4359e-04\n",
      "Epoch 25/100\n",
      "38/38 [==============================] - 3s 72ms/step - loss: 0.0026 - val_loss: 6.4505e-04\n",
      "Epoch 26/100\n",
      "38/38 [==============================] - 3s 72ms/step - loss: 0.0024 - val_loss: 0.0010\n",
      "Epoch 27/100\n",
      "38/38 [==============================] - 3s 73ms/step - loss: 0.0026 - val_loss: 6.4457e-04\n",
      "Epoch 28/100\n",
      "38/38 [==============================] - 3s 73ms/step - loss: 0.0026 - val_loss: 9.3164e-04\n",
      "Epoch 29/100\n",
      "38/38 [==============================] - 3s 72ms/step - loss: 0.0025 - val_loss: 9.2996e-04\n",
      "Epoch 30/100\n",
      "38/38 [==============================] - 3s 72ms/step - loss: 0.0028 - val_loss: 6.7208e-04\n",
      "Epoch 31/100\n",
      "38/38 [==============================] - 3s 72ms/step - loss: 0.0026 - val_loss: 8.0030e-04\n",
      "Epoch 32/100\n",
      "38/38 [==============================] - 3s 73ms/step - loss: 0.0025 - val_loss: 0.0017\n",
      "Epoch 33/100\n",
      "38/38 [==============================] - 3s 72ms/step - loss: 0.0023 - val_loss: 0.0017\n",
      "Epoch 34/100\n",
      "38/38 [==============================] - 3s 72ms/step - loss: 0.0025 - val_loss: 0.0010\n",
      "Epoch 35/100\n",
      "38/38 [==============================] - 3s 72ms/step - loss: 0.0023 - val_loss: 7.3036e-04\n",
      "Epoch 36/100\n",
      "38/38 [==============================] - 3s 72ms/step - loss: 0.0024 - val_loss: 9.1242e-04\n",
      "Epoch 37/100\n",
      "38/38 [==============================] - 3s 73ms/step - loss: 0.0025 - val_loss: 8.7931e-04\n",
      "Epoch 38/100\n",
      "38/38 [==============================] - 3s 72ms/step - loss: 0.0025 - val_loss: 0.0018\n",
      "Epoch 39/100\n",
      "38/38 [==============================] - 3s 73ms/step - loss: 0.0025 - val_loss: 8.1656e-04\n",
      "Epoch 40/100\n",
      "38/38 [==============================] - 3s 73ms/step - loss: 0.0021 - val_loss: 7.6111e-04\n",
      "Epoch 41/100\n",
      "38/38 [==============================] - 3s 73ms/step - loss: 0.0023 - val_loss: 0.0013\n",
      "Epoch 42/100\n",
      "38/38 [==============================] - 3s 72ms/step - loss: 0.0023 - val_loss: 0.0014\n",
      "Epoch 43/100\n",
      "38/38 [==============================] - 3s 68ms/step - loss: 0.0021 - val_loss: 9.4920e-04\n",
      "Epoch 44/100\n",
      "38/38 [==============================] - 3s 73ms/step - loss: 0.0022 - val_loss: 6.2517e-04\n",
      "Epoch 45/100\n",
      "38/38 [==============================] - 3s 73ms/step - loss: 0.0020 - val_loss: 6.2161e-04\n",
      "Epoch 46/100\n",
      "38/38 [==============================] - 3s 73ms/step - loss: 0.0024 - val_loss: 0.0025\n",
      "Epoch 47/100\n",
      "38/38 [==============================] - 2s 63ms/step - loss: 0.0021 - val_loss: 7.6371e-04\n",
      "Epoch 48/100\n",
      "38/38 [==============================] - 2s 62ms/step - loss: 0.0022 - val_loss: 0.0021\n",
      "Epoch 49/100\n",
      "38/38 [==============================] - 3s 72ms/step - loss: 0.0021 - val_loss: 0.0015\n",
      "Epoch 50/100\n",
      "38/38 [==============================] - 3s 73ms/step - loss: 0.0022 - val_loss: 0.0014\n",
      "Epoch 51/100\n",
      "38/38 [==============================] - 3s 73ms/step - loss: 0.0019 - val_loss: 7.2151e-04\n",
      "Epoch 52/100\n",
      "38/38 [==============================] - 3s 72ms/step - loss: 0.0020 - val_loss: 9.2485e-04\n",
      "Epoch 53/100\n",
      "38/38 [==============================] - 3s 72ms/step - loss: 0.0023 - val_loss: 6.5253e-04\n",
      "Epoch 54/100\n",
      "38/38 [==============================] - 3s 73ms/step - loss: 0.0023 - val_loss: 9.4734e-04\n",
      "Epoch 55/100\n",
      "38/38 [==============================] - 3s 73ms/step - loss: 0.0018 - val_loss: 0.0011\n",
      "Epoch 56/100\n",
      "38/38 [==============================] - 3s 72ms/step - loss: 0.0020 - val_loss: 0.0023\n",
      "Epoch 57/100\n",
      "38/38 [==============================] - 3s 73ms/step - loss: 0.0021 - val_loss: 0.0013\n",
      "Epoch 58/100\n",
      "38/38 [==============================] - 3s 72ms/step - loss: 0.0019 - val_loss: 0.0017\n",
      "Epoch 59/100\n",
      "38/38 [==============================] - 3s 73ms/step - loss: 0.0019 - val_loss: 6.7353e-04\n",
      "Epoch 60/100\n",
      "38/38 [==============================] - 3s 72ms/step - loss: 0.0021 - val_loss: 6.6221e-04\n",
      "Epoch 61/100\n",
      "38/38 [==============================] - 3s 73ms/step - loss: 0.0020 - val_loss: 0.0017\n",
      "Epoch 62/100\n",
      "38/38 [==============================] - 3s 73ms/step - loss: 0.0018 - val_loss: 0.0014\n",
      "Epoch 63/100\n",
      "38/38 [==============================] - 3s 70ms/step - loss: 0.0019 - val_loss: 8.6038e-04\n",
      "Epoch 64/100\n",
      "38/38 [==============================] - 3s 74ms/step - loss: 0.0019 - val_loss: 0.0013\n",
      "Epoch 65/100\n",
      "38/38 [==============================] - 3s 69ms/step - loss: 0.0021 - val_loss: 0.0031\n",
      "Epoch 66/100\n",
      "38/38 [==============================] - 3s 72ms/step - loss: 0.0020 - val_loss: 6.9587e-04\n",
      "Epoch 67/100\n",
      "38/38 [==============================] - 3s 71ms/step - loss: 0.0019 - val_loss: 9.5948e-04\n",
      "Epoch 68/100\n",
      "38/38 [==============================] - 3s 73ms/step - loss: 0.0019 - val_loss: 0.0010\n",
      "Epoch 69/100\n",
      "38/38 [==============================] - 3s 72ms/step - loss: 0.0019 - val_loss: 0.0020\n",
      "Epoch 70/100\n",
      "38/38 [==============================] - 3s 74ms/step - loss: 0.0018 - val_loss: 7.7942e-04\n",
      "Epoch 71/100\n",
      "38/38 [==============================] - 3s 74ms/step - loss: 0.0020 - val_loss: 0.0014\n",
      "Epoch 72/100\n",
      "38/38 [==============================] - 3s 73ms/step - loss: 0.0018 - val_loss: 7.0595e-04\n",
      "Epoch 73/100\n",
      "38/38 [==============================] - 3s 71ms/step - loss: 0.0017 - val_loss: 6.8402e-04\n",
      "Epoch 74/100\n",
      "38/38 [==============================] - 3s 74ms/step - loss: 0.0017 - val_loss: 8.2457e-04\n",
      "Epoch 75/100\n",
      "38/38 [==============================] - 3s 73ms/step - loss: 0.0017 - val_loss: 9.6653e-04\n",
      "Epoch 76/100\n",
      "38/38 [==============================] - 3s 74ms/step - loss: 0.0017 - val_loss: 7.4330e-04\n",
      "Epoch 77/100\n",
      "38/38 [==============================] - 3s 73ms/step - loss: 0.0019 - val_loss: 0.0025\n",
      "Epoch 78/100\n",
      "38/38 [==============================] - 3s 72ms/step - loss: 0.0016 - val_loss: 0.0033\n",
      "Epoch 79/100\n",
      "38/38 [==============================] - 3s 70ms/step - loss: 0.0017 - val_loss: 0.0010\n",
      "Epoch 80/100\n"
     ]
    },
    {
     "name": "stdout",
     "output_type": "stream",
     "text": [
      "38/38 [==============================] - 3s 72ms/step - loss: 0.0017 - val_loss: 0.0017\n",
      "Epoch 81/100\n",
      "38/38 [==============================] - 3s 71ms/step - loss: 0.0016 - val_loss: 0.0041\n",
      "Epoch 82/100\n",
      "38/38 [==============================] - 3s 72ms/step - loss: 0.0018 - val_loss: 8.6238e-04\n",
      "Epoch 83/100\n",
      "38/38 [==============================] - 3s 72ms/step - loss: 0.0017 - val_loss: 0.0011\n",
      "Epoch 84/100\n",
      "38/38 [==============================] - 3s 71ms/step - loss: 0.0016 - val_loss: 8.2120e-04\n",
      "Epoch 85/100\n",
      "38/38 [==============================] - 3s 73ms/step - loss: 0.0015 - val_loss: 0.0018\n",
      "Epoch 86/100\n",
      "38/38 [==============================] - 3s 72ms/step - loss: 0.0016 - val_loss: 0.0017\n",
      "Epoch 87/100\n",
      "38/38 [==============================] - 3s 67ms/step - loss: 0.0016 - val_loss: 0.0018\n",
      "Epoch 88/100\n",
      "38/38 [==============================] - 3s 72ms/step - loss: 0.0014 - val_loss: 0.0017\n",
      "Epoch 89/100\n",
      "38/38 [==============================] - 3s 71ms/step - loss: 0.0015 - val_loss: 0.0020\n",
      "Epoch 90/100\n",
      "38/38 [==============================] - 2s 58ms/step - loss: 0.0016 - val_loss: 0.0025\n",
      "Epoch 91/100\n",
      "38/38 [==============================] - 2s 54ms/step - loss: 0.0016 - val_loss: 9.9260e-04\n",
      "Epoch 92/100\n",
      "38/38 [==============================] - ETA: 0s - loss: 0.001 - 2s 66ms/step - loss: 0.0016 - val_loss: 0.0023\n",
      "Epoch 93/100\n",
      "38/38 [==============================] - 2s 66ms/step - loss: 0.0015 - val_loss: 0.0020\n",
      "Epoch 94/100\n",
      "38/38 [==============================] - 1s 37ms/step - loss: 0.0016 - val_loss: 6.3902e-04\n",
      "Epoch 95/100\n",
      "38/38 [==============================] - 2s 46ms/step - loss: 0.0016 - val_loss: 0.0018\n",
      "Epoch 96/100\n",
      "38/38 [==============================] - 3s 70ms/step - loss: 0.0014 - val_loss: 0.0021\n",
      "Epoch 97/100\n",
      "38/38 [==============================] - 3s 72ms/step - loss: 0.0016 - val_loss: 0.0011\n",
      "Epoch 98/100\n",
      "38/38 [==============================] - 3s 71ms/step - loss: 0.0016 - val_loss: 8.9600e-04\n",
      "Epoch 99/100\n",
      "38/38 [==============================] - 3s 74ms/step - loss: 0.0014 - val_loss: 0.0016\n",
      "Epoch 100/100\n",
      "38/38 [==============================] - 3s 73ms/step - loss: 0.0015 - val_loss: 0.0026\n"
     ]
    },
    {
     "data": {
      "text/plain": [
       "<keras.callbacks.History at 0x22ec723bb00>"
      ]
     },
     "execution_count": 57,
     "metadata": {},
     "output_type": "execute_result"
    }
   ],
   "source": [
    "model.fit(x_train, y_train, epochs=100, batch_size=30, validation_split=0.05)"
   ]
  },
  {
   "cell_type": "code",
   "execution_count": 58,
   "id": "dea61928",
   "metadata": {},
   "outputs": [
    {
     "data": {
      "text/plain": [
       "0     325.25\n",
       "1     331.27\n",
       "2     329.83\n",
       "3     328.34\n",
       "4     322.04\n",
       "       ...  \n",
       "15    829.62\n",
       "16    837.81\n",
       "17    834.71\n",
       "18    814.66\n",
       "19    796.86\n",
       "Name: Open, Length: 1278, dtype: float64"
      ]
     },
     "execution_count": 58,
     "metadata": {},
     "output_type": "execute_result"
    }
   ],
   "source": [
    "data = pd.concat((df_train['Open'], df_test['Open']), axis=0)\n",
    "data"
   ]
  },
  {
   "cell_type": "code",
   "execution_count": 59,
   "id": "ce3d1675",
   "metadata": {},
   "outputs": [
    {
     "data": {
      "text/plain": [
       "(80,)"
      ]
     },
     "execution_count": 59,
     "metadata": {},
     "output_type": "execute_result"
    }
   ],
   "source": [
    "test = data.iloc[len(data)-len(df_test)-time:].values\n",
    "test.shape"
   ]
  },
  {
   "cell_type": "code",
   "execution_count": 60,
   "id": "25a63f61",
   "metadata": {},
   "outputs": [],
   "source": [
    "test = test.reshape(-1,1)"
   ]
  },
  {
   "cell_type": "code",
   "execution_count": 61,
   "id": "6c313661",
   "metadata": {},
   "outputs": [
    {
     "data": {
      "text/plain": [
       "(80, 1)"
      ]
     },
     "execution_count": 61,
     "metadata": {},
     "output_type": "execute_result"
    }
   ],
   "source": [
    "test_scaled = mms.fit_transform(test)\n",
    "test_scaled.shape"
   ]
  },
  {
   "cell_type": "code",
   "execution_count": 62,
   "id": "734f6834",
   "metadata": {},
   "outputs": [],
   "source": [
    "x_test = []\n",
    "y_test = df_test.loc[:,['Open']].values"
   ]
  },
  {
   "cell_type": "code",
   "execution_count": 63,
   "id": "6292f735",
   "metadata": {},
   "outputs": [
    {
     "data": {
      "text/plain": [
       "array([[778.81],\n",
       "       [788.36],\n",
       "       [786.08],\n",
       "       [795.26],\n",
       "       [806.4 ],\n",
       "       [807.86],\n",
       "       [805.  ],\n",
       "       [807.14],\n",
       "       [807.48],\n",
       "       [807.08],\n",
       "       [805.81],\n",
       "       [805.12],\n",
       "       [806.91],\n",
       "       [807.25],\n",
       "       [822.3 ],\n",
       "       [829.62],\n",
       "       [837.81],\n",
       "       [834.71],\n",
       "       [814.66],\n",
       "       [796.86]])"
      ]
     },
     "execution_count": 63,
     "metadata": {},
     "output_type": "execute_result"
    }
   ],
   "source": [
    "y_test"
   ]
  },
  {
   "cell_type": "code",
   "execution_count": 64,
   "id": "00308e41",
   "metadata": {},
   "outputs": [
    {
     "data": {
      "text/plain": [
       "(20, 1)"
      ]
     },
     "execution_count": 64,
     "metadata": {},
     "output_type": "execute_result"
    }
   ],
   "source": [
    "y_test.shape"
   ]
  },
  {
   "cell_type": "code",
   "execution_count": 65,
   "id": "b463a86f",
   "metadata": {},
   "outputs": [],
   "source": [
    "for i in range(time,test_scaled.shape[0]):\n",
    "    x_test.append(test_scaled[i-time:i,0])"
   ]
  },
  {
   "cell_type": "code",
   "execution_count": 66,
   "id": "f89ac29c",
   "metadata": {},
   "outputs": [],
   "source": [
    "x_test = np.array(x_test)\n",
    "y_test = np.array(y_test)"
   ]
  },
  {
   "cell_type": "code",
   "execution_count": 67,
   "id": "d807f965",
   "metadata": {},
   "outputs": [
    {
     "data": {
      "text/plain": [
       "((20, 60), (20, 1))"
      ]
     },
     "execution_count": 67,
     "metadata": {},
     "output_type": "execute_result"
    }
   ],
   "source": [
    "x_test.shape, y_test.shape"
   ]
  },
  {
   "cell_type": "code",
   "execution_count": 68,
   "id": "7492ef83",
   "metadata": {},
   "outputs": [
    {
     "data": {
      "text/plain": [
       "(20, 60, 1)"
      ]
     },
     "execution_count": 68,
     "metadata": {},
     "output_type": "execute_result"
    }
   ],
   "source": [
    "x_test = np.reshape(x_test, newshape=(x_test.shape[0], x_test.shape[1],1))\n",
    "x_test.shape"
   ]
  },
  {
   "cell_type": "code",
   "execution_count": 69,
   "id": "9acffe71",
   "metadata": {},
   "outputs": [
    {
     "name": "stdout",
     "output_type": "stream",
     "text": [
      "1/1 [==============================] - 0s 20ms/step - loss: 651318.6250\n"
     ]
    }
   ],
   "source": [
    "output = model.evaluate(x =x_test, y=y_test)"
   ]
  },
  {
   "cell_type": "code",
   "execution_count": 70,
   "id": "fb2c644a",
   "metadata": {},
   "outputs": [],
   "source": [
    "y_pred = model.predict(x_test)"
   ]
  },
  {
   "cell_type": "code",
   "execution_count": 71,
   "id": "166c8ff2",
   "metadata": {},
   "outputs": [],
   "source": [
    "y_pred = mms.inverse_transform(y_pred)"
   ]
  },
  {
   "cell_type": "code",
   "execution_count": 72,
   "id": "48fb2957",
   "metadata": {},
   "outputs": [
    {
     "data": {
      "text/plain": [
       "array([[786.67224],\n",
       "       [783.56067],\n",
       "       [782.8422 ],\n",
       "       [785.4193 ],\n",
       "       [790.6388 ],\n",
       "       [796.8053 ],\n",
       "       [800.7686 ],\n",
       "       [801.23303],\n",
       "       [801.22314],\n",
       "       [802.3079 ],\n",
       "       [804.0574 ],\n",
       "       [804.6067 ],\n",
       "       [803.5211 ],\n",
       "       [802.7345 ],\n",
       "       [803.3196 ],\n",
       "       [808.05133],\n",
       "       [814.56714],\n",
       "       [820.90784],\n",
       "       [824.4552 ],\n",
       "       [822.51276]], dtype=float32)"
      ]
     },
     "execution_count": 72,
     "metadata": {},
     "output_type": "execute_result"
    }
   ],
   "source": [
    "y_pred"
   ]
  },
  {
   "cell_type": "code",
   "execution_count": 73,
   "id": "d39d5341",
   "metadata": {},
   "outputs": [
    {
     "data": {
      "image/png": "[encoded data removed]",
      "text/plain": [
       "<Figure size 432x288 with 1 Axes>"
      ]
     },
     "metadata": {
      "needs_background": "light"
     },
     "output_type": "display_data"
    }
   ],
   "source": [
    "plt.plot(y_test, color='blue', label=\"Actual values\")\n",
    "plt.plot(y_pred, color='red', label=\"Predicted values\")\n",
    "plt.xlabel(\"Time\")\n",
    "plt.ylabel(\"Stock Price\")\n",
    "plt.title(\"Actual values vs Predicted values\")\n",
    "plt.show()"
   ]
  },
  {
   "cell_type": "code",
   "execution_count": null,
   "id": "ea893d73",
   "metadata": {},
   "outputs": [],
   "source": []
  }
 ],
 "metadata": {
  "kernelspec": {
   "display_name": "Python 3",
   "language": "python",
   "name": "python3"
  },
  "language_info": {
   "codemirror_mode": {
    "name": "ipython",
    "version": 3
   },
   "file_extension": ".py",
   "mimetype": "text/x-python",
   "name": "python",
   "nbconvert_exporter": "python",
   "pygments_lexer": "ipython3",
   "version": "3.6.13"
  }
 },
 "nbformat": 4,
 "nbformat_minor": 5
}
